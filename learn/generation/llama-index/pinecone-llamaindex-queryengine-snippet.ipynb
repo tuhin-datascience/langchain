{
 "cells": [
  {
   "cell_type": "markdown",
   "id": "f07dfd68-ca90-4bd7-bac1-1d65e926755e",
   "metadata": {},
   "source": [
    "# How To Issue Natural Language Queries To An Existing Pinecone Index via LlamaIndex\n",
    "\n",
    "A few weeks ago, I had the privilege of giving a talk & judging the finalists at [AGI House](https://agihouse.ai/)'s [Build / Break / Test](https://partiful.com/e/QKjcXJOCb2IHiuAVX9L6) hackathon.\n",
    "\n",
    "Multiple engineers came up to me asking for a concise way of querying an *existing* Pinecone index via LlamaIndex, especially one that was [namespace-ed](https://docs.pinecone.io/docs/namespaces). While it's not currently possible to use [LlamaIndex's popular `as_query_engine()` method](https://gpt-index.readthedocs.io/en/latest/core_modules/query_modules/query_engine/root.html) to query an existing Pinecone index with namespaces, there is still a beautiful way to get the job done:"
   ]
  },
  {
   "cell_type": "code",
   "execution_count": 2,
   "id": "12feefab-1140-4483-b6cf-f904ec08420c",
   "metadata": {},
   "outputs": [],
   "source": [
    "# Make sure you have the libraries below installed\n",
    "\n",
    "import os\n",
    "\n",
    "from llama_index import VectorStoreIndex\n",
    "from llama_index import ServiceContext, OpenAIEmbedding\n",
    "from llama_index.indices.vector_store import VectorIndexRetriever\n",
    "from llama_index.llms import OpenAI\n",
    "from llama_index.query_engine import RetrieverQueryEngine\n",
    "from llama_index.vector_stores import PineconeVectorStore"
   ]
  },
  {
   "cell_type": "code",
   "execution_count": 15,
   "id": "ed19a6fe-a090-4d8e-934b-2c5468ff3130",
   "metadata": {},
   "outputs": [],
   "source": [
    "# You'll need to set your Pinecone and OpenAI environment variables.\n",
    "# You can find your Pinecone API key and environment name in the UI at app.pinecone.io, once you've made an account.\n",
    "\n",
    "os.environ['PINECONE_ENVIRONMENT'] = '<get at app.pinecone.io>'\n",
    "os.environ['PINECONE_API_KEY'] = '<get at app.pinecone.io>'\n",
    "os.environ['OPENAI_API_KEY'] = '<get from OpenAI>'"
   ]
  },
  {
   "cell_type": "code",
   "execution_count": 16,
   "id": "7919b833-e842-4305-b9e0-e7cf366d0ab0",
   "metadata": {},
   "outputs": [],
   "source": [
    "# Initialize your Pinecone vector store, passing in your environment variables.\n",
    "# Here, you will input the name of your exiting Pinecone index as `index_name`\n",
    "# If your index has a namespace, you'll put it in the `namespace` parameter\n",
    "# And if your metadata dicts (every vector has an optional metadata object you can populate) have a diff key than the default of `text`,\n",
    "    # you can put that in the `text_key` parameter.\n",
    "\n",
    "vector_store = PineconeVectorStore(api_key=os.getenv('PINECONE_API_KEY'),\n",
    "                                   environment=os.getenv('PINECONE_ENVIRONMENT'),\n",
    "                                   index_name='<your existing index\\'s name>',\n",
    "                                   namespace=\"<optional namespace>\",\n",
    "                                   text_key='<optional override of key `text` in case your index has a diff key in the metadata>')"
   ]
  },
  {
   "cell_type": "code",
   "execution_count": 17,
   "id": "5d87abfd-f130-41ca-b535-763966499c05",
   "metadata": {},
   "outputs": [],
   "source": [
    "# Build your Service Context object\n",
    "# You need the `llm` object to generate text\n",
    "# Your need the `embed_model` to vectorize your query. Note: this has to be the same model used to create the vectors in your index.\n",
    "\n",
    "llm = OpenAI(api_key=os.getenv('OPENAI_API_KEY'))  # Default is gpt-3.5-turbo\n",
    "embed_model = OpenAIEmbedding(api_key=os.getenv('OPENAI_API_KEY'))  # Default is text-embedding-ada-002\n",
    "service_context = ServiceContext.from_defaults(\n",
    "    llm=llm,\n",
    "    embed_model=embed_model\n",
    ")"
   ]
  },
  {
   "cell_type": "code",
   "execution_count": 18,
   "id": "b5f60462-cb4a-47fa-97d2-965bfb0ee3c2",
   "metadata": {},
   "outputs": [],
   "source": [
    "# Build your Index object\n",
    "\n",
    "index = VectorStoreIndex.from_vector_store(vector_store=vector_store, service_context=service_context)"
   ]
  },
  {
   "cell_type": "code",
   "execution_count": 19,
   "id": "2f6369b6-f4e0-435b-ae47-f387bd46516a",
   "metadata": {},
   "outputs": [],
   "source": [
    "# Build your Retriever object\n",
    "\n",
    "vector_index_retriever = VectorIndexRetriever(index)"
   ]
  },
  {
   "cell_type": "code",
   "execution_count": 20,
   "id": "57f6269f-4e98-4991-8329-e9d848261c3a",
   "metadata": {},
   "outputs": [],
   "source": [
    "# Build your Query Engine (this is where you might use the `as_query_engine()` method in other use cases)\n",
    "\n",
    "query_engine = RetrieverQueryEngine(vector_index_retriever)"
   ]
  },
  {
   "cell_type": "code",
   "execution_count": 21,
   "id": "6247fa7e-ce5b-49d1-b43b-ca9b5b2e159b",
   "metadata": {},
   "outputs": [],
   "source": [
    "# Query your engine!\n",
    "\n",
    "response = query_engine.query(\"What is a dog?\")"
   ]
  },
  {
   "cell_type": "code",
   "execution_count": 22,
   "id": "ff3710d3-fe03-44f4-a491-d8b65dd81f09",
   "metadata": {
    "scrolled": true
   },
   "outputs": [
    {
     "data": {
      "text/plain": [
       "Response(response='A dog is a domesticated mammal that is commonly kept as a pet or used for various purposes such as hunting, herding, and guarding. Dogs are known for their loyalty, companionship, and ability to be trained. They come in various breeds, sizes, and colors, and are known for their keen sense of smell and hearing.', source_nodes=[NodeWithScore(node=TextNode(id_='b5d400da-cebd-473b-a5c8-f018cbd038da', embedding=None, metadata={'chunk_num': 100.0, 'title': 'Albedo', 'url': 'https://en.wikipedia.org/wiki/Albedo'}, excluded_embed_metadata_keys=[], excluded_llm_metadata_keys=[], relationships={}, hash='deafcfc45a319cfd306a263d792cb67e12957bcb48c62b7d696f0574729ad422', text='Clouds', start_char_idx=None, end_char_idx=None, text_template='{metadata_str}\\n\\n{content}', metadata_template='{key}: {value}', metadata_seperator='\\n'), score=0.803958595), NodeWithScore(node=TextNode(id_='df870970-c9f6-4497-8133-682d2affa056', embedding=None, metadata={'chunk_num': 254.0, 'title': 'Autism', 'url': 'https://en.wikipedia.org/wiki/Autism'}, excluded_embed_metadata_keys=[], excluded_llm_metadata_keys=[], relationships={}, hash='579b29fa862957dd32795e99fdab4d61129d6d38d0f4ea1a4eee2d3008b157e9', text='History', start_char_idx=None, end_char_idx=None, text_template='{metadata_str}\\n\\n{content}', metadata_template='{key}: {value}', metadata_seperator='\\n'), score=0.795092821)], metadata={'b5d400da-cebd-473b-a5c8-f018cbd038da': {'chunk_num': 100.0, 'title': 'Albedo', 'url': 'https://en.wikipedia.org/wiki/Albedo'}, 'df870970-c9f6-4497-8133-682d2affa056': {'chunk_num': 254.0, 'title': 'Autism', 'url': 'https://en.wikipedia.org/wiki/Autism'}})"
      ]
     },
     "execution_count": 22,
     "metadata": {},
     "output_type": "execute_result"
    }
   ],
   "source": [
    "response"
   ]
  },
  {
   "cell_type": "code",
   "execution_count": null,
   "id": "e44aa332-1b40-4c39-bf5a-a11d37d6617b",
   "metadata": {},
   "outputs": [],
   "source": []
  },
  {
   "cell_type": "markdown",
   "id": "9b21a57f-dd6e-4a45-9076-981ed9bc5e5f",
   "metadata": {},
   "source": [
    "## Give us a shout on [Twitter](https://twitter.com/pinecone) or [LinkedIn](https://www.linkedin.com/company/pinecone-io/) with any follow-up questions :) We would love to hear from you"
   ]
  },
  {
   "cell_type": "code",
   "execution_count": null,
   "id": "f6ec13bc-22c1-45d4-b931-7866dc578c60",
   "metadata": {},
   "outputs": [],
   "source": []
  }
 ],
 "metadata": {
  "kernelspec": {
   "display_name": "Python 3 (ipykernel)",
   "language": "python",
   "name": "python3"
  },
  "language_info": {
   "codemirror_mode": {
    "name": "ipython",
    "version": 3
   },
   "file_extension": ".py",
   "mimetype": "text/x-python",
   "name": "python",
   "nbconvert_exporter": "python",
   "pygments_lexer": "ipython3",
   "version": "3.11.5"
  }
 },
 "nbformat": 4,
 "nbformat_minor": 5
}
